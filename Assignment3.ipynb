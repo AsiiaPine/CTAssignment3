{
 "cells": [
  {
   "cell_type": "markdown",
   "metadata": {
    "id": "_kVWFukOo2xf"
   },
   "source": [
    "#**Stabilization of Cart Pole system**: \n",
    "> Consider cart pole system:\n",
    ">\n",
    ">\n",
    "><p><img alt=\"mbk\" height=\"250px\" src=\"https://drive.google.com/uc?id=1O1iM6MByfMyrO0txAMFb_miOqPNzFAvm\" align=\"center\" hspace=\"350px\" vspace=\"0px\"></p>\n",
    ">\n",
    ">\n",
    "> Do the following:\n",
    ">*   1) Design the linear feedback controller using linearization of the cart-pole dynamics.\n",
    ">*   2) Simulate the response of your controller on the linearized and nonlinear system, compare the results.\n",
    ">*   3) Taking into account that $y = Cx$ is measured, design observer and linear control that uses observer state. \n",
    ">*   4) Simulate the nonlinear system with the observer and controller, show the difference between the actual motion of the nonlinear system and its estimate produced by teh observer.\n",
    ">\n",
    "> [Here is the great illustration of the hardware implemintation of the cart-pole](https://www.youtube.com/shorts/NJxBJ2LJY7w) \n"
   ]
  },
  {
   "cell_type": "markdown",
   "metadata": {
    "id": "WrEHbu0anIiU"
   },
   "source": [
    "## **System Dynamics**:\n",
    "\n",
    "Recall the dynamics of cart-pole system:\n",
    "\\begin{equation}\n",
    "\\begin{cases} \n",
    "\\left(M+m\\right){\\ddot {p}}-m L \\ddot{\\theta} \\cos \\theta +m L \\dot{\\theta }^{2}\\sin \\theta = u \\\\\n",
    "L \\ddot{\\theta}- g\\sin \\theta =\\ddot{p} \\cos \\theta  \\\\\n",
    "\\end{cases}\n",
    "\\end{equation}\n",
    "\n",
    "where $\\theta$ is angle of the pendulum measured from the upper equilibrium and $p$ is position of cart\n",
    "\n",
    "\n",
    "Choosing the state to be $\\mathbf{x} = [\\theta, \\dot{\\theta}, p, \\dot{p}]^T$One may rewrite this dynamics in the state-space form as:\n",
    "\\begin{equation}\n",
    "\\mathbf{\\dot{x}} = \n",
    "\\begin{bmatrix}\n",
    "\\dot{\\theta} \\\\ \n",
    "\\ddot{\\theta} \\\\ \n",
    "\\dot{p} \\\\ \n",
    "\\ddot{p}\n",
    "\\end{bmatrix} \n",
    "= \n",
    "\\begin{bmatrix}\n",
    "\\dot{\\theta} \\\\ \n",
    "\\frac{(M+m)g \\sin \\theta - mL \\dot{\\theta}^2 \\sin\\theta \\cos\\theta}{(M + m\\sin^2 \\theta)L} \\\\ \n",
    "\\dot{x} \\\\ \n",
    "\\frac{mg\\sin\\theta \\cos\\theta - mL\\dot{\\theta}^2 \\sin \\theta}{M + m\\sin^2 \\theta} \\\\ \n",
    "\\end{bmatrix} \n",
    "+\n",
    "\\begin{bmatrix}\n",
    "0 \\\\ \n",
    "\\frac{\\cos\\theta}{(M + m\\sin^2 \\theta)L} \\\\ \n",
    "0 \\\\ \n",
    "\\frac{1}{M + m\\sin^2 \\theta} \\\\ \n",
    "\\end{bmatrix} u\n",
    "\\end{equation}\n"
   ]
  },
  {
   "cell_type": "code",
   "execution_count": null,
   "metadata": {},
   "outputs": [],
   "source": []
  },
  {
   "cell_type": "markdown",
   "metadata": {
    "id": "VAnL3N08Ur7h"
   },
   "source": [
    "### **System parameters**:\n",
    "Let us choose the following parameters:"
   ]
  },
  {
   "cell_type": "code",
   "execution_count": 3,
   "metadata": {
    "id": "M2NL56xAUrM3"
   },
   "outputs": [],
   "source": [
    "import numpy.linalg\n",
    "\n",
    "m = 0.5 # mass of pendulum bob\n",
    "M = 2 # mass of cart\n",
    "pendulum_length = 0.3 # length of pendulum\n",
    "g = 9.81 # gravitational acceleration\n"
   ]
  },
  {
   "cell_type": "markdown",
   "metadata": {
    "id": "7EaVQAp7MlhL"
   },
   "source": [
    "#### **Nonlinear dynamics**:\n",
    "\n",
    "First of all let us define the nonlinear system in form $\\dot{\\mathbf{x}} = \\mathbf{f}(\\mathbf{x}, \\mathbf{u})$ :"
   ]
  },
  {
   "cell_type": "code",
   "execution_count": 4,
   "metadata": {
    "colab": {
     "base_uri": "https://localhost:8080/"
    },
    "id": "lMSbMWXnWwRC",
    "outputId": "164cba9d-6d27-4119-cfe0-61a469ae66fe"
   },
   "outputs": [
    {
     "name": "stdout",
     "output_type": "stream",
     "text": [
      "[ 0.         29.22225161  0.          0.947331  ]\n"
     ]
    }
   ],
   "source": [
    "import numpy as np\n",
    "from math import cos, sin\n",
    "\n",
    "import matplotlib.pyplot as plt\n",
    "\n",
    "# sin, cos = np.sin, np.cos\n",
    "# Nonlinear cart-pole dynamics\n",
    "def f(x, u):\n",
    "    theta, dtheta, p, dp = x\n",
    "    u = u[0]\n",
    "\n",
    "    denominator = M + m*(sin(theta)**2)\n",
    "    ddtheta = ((M + m) * g * sin(theta) - m * pendulum_length * dtheta ** 2 * sin(theta) * cos(theta) + cos(theta) * u) / (denominator * pendulum_length)\n",
    "    ddp = (m * g * sin(theta) * cos(theta) - m * pendulum_length * dtheta ** 2 * sin(theta) + u) / denominator\n",
    "\n",
    "    dx = np.array([dtheta, ddtheta, dp, ddp])\n",
    "    return dx\n",
    "\n",
    "x0 = np.array([1, # Initial pendulum angle\n",
    "      0, # Initial pendulum angular speed\n",
    "      1, # Initial cart position\n",
    "      0]) # Initial cart speed\n",
    "u0 = np.array([0])\n",
    "print(f(x0, u0))"
   ]
  },
  {
   "cell_type": "code",
   "execution_count": 4,
   "metadata": {
    "id": "7N8K9HjdKr0X"
   },
   "outputs": [],
   "source": []
  },
  {
   "cell_type": "markdown",
   "metadata": {
    "id": "D_Cvl8EyTVMG"
   },
   "source": [
    "### **Linearized Dynamics**:\n",
    "\n",
    "Liniarization around the upper equilibrium $\\mathbf{x} = [0,0,0,0]$ yields:\n",
    "\n",
    "\\begin{equation}\n",
    "\\mathbf{\\dot{x}} = \n",
    "\\begin{bmatrix}\n",
    "\\dot{\\theta} \\\\ \n",
    "\\ddot{\\theta} \\\\ \n",
    "\\dot{p} \\\\ \n",
    "\\ddot{p}\n",
    "\\end{bmatrix} \n",
    "=\n",
    "\\begin{bmatrix}\n",
    "0 & 1 & 0 & 0\\\\\n",
    "\\frac{(M+m)}{M}\\frac{g}{L} & 0 & 0 & 0 \\\\\n",
    "0 & 0 & 0 & 1 \\\\\n",
    "\\frac{m}{M}g & 0 & 0 & 0 \n",
    "\\end{bmatrix} \n",
    "\\begin{bmatrix}\n",
    "\\theta \\\\ \n",
    "\\dot{\\theta} \\\\ \n",
    "p \\\\ \n",
    "\\dot{p}\n",
    "\\end{bmatrix} \n",
    "+\n",
    "\\begin{bmatrix}\n",
    "0 \\\\\n",
    "\\frac{1}{ML} \\\\\n",
    "0 \\\\\n",
    "\\frac{1}{M}\n",
    "\\end{bmatrix}\n",
    "u\n",
    "\\end{equation}"
   ]
  },
  {
   "cell_type": "code",
   "execution_count": 5,
   "metadata": {
    "id": "i3y-TnTmTUf4"
   },
   "outputs": [],
   "source": [
    "# System matrix\n",
    "A = np.array([[0, 1, 0, 0],\n",
    "             [(M + m) * g / (M * pendulum_length), 0, 0, 0],\n",
    "             [0,0,0,1],\n",
    "             [m*g/M, 0, 0, 0]])\n",
    "# Input matrix\n",
    "B = np.array([[0],\n",
    "             [1 / (M * pendulum_length)],\n",
    "             [0],\n",
    "             [1/M]])\n",
    "C = np.array([[1, 0, 0, 0], [0, 1, 0, 0], [0, 0, 1, 0]])"
   ]
  },
  {
   "cell_type": "markdown",
   "metadata": {
    "id": "BwYSjfDTVTCF"
   },
   "source": [
    "### **Controller Design**:\n",
    "\n",
    "Let us design the controller for linearized plant by placing poles (eigen values) on the left-hand side of complex plane:\n"
   ]
  },
  {
   "cell_type": "markdown",
   "metadata": {
    "id": "FMjO0AyEJ2bb"
   },
   "source": [
    "Insert your control design / observer design code here.\n",
    "\n",
    "Check eigenvalues of the closed-loop system for 1) closed-loop for the case when full state information is available and no observer is used, 2) when only measurement y = C*x is availible and an observer is used."
   ]
  },
  {
   "cell_type": "code",
   "execution_count": 6,
   "metadata": {
    "pycharm": {
     "name": "#%%\n"
    }
   },
   "outputs": [
    {
     "name": "stdout",
     "output_type": "stream",
     "text": [
      "Matrix K: [[69.32683486 11.22568807 -7.33944954 -9.41896024]] \n",
      "\n",
      "u = - [[69.32683486 11.22568807 -7.33944954 -9.41896024]] x\n",
      "\n",
      "Matrix L: [[3.55207503e+00 1.49728824e+00 1.62795684e-03]\n",
      " [4.13722873e+01 3.44793783e+00 9.13165469e-04]\n",
      " [7.26089884e-03 4.63474598e-03 6.99998714e+00]\n",
      " [2.46973508e+00 1.07914466e-02 9.99997733e+00]] \n",
      "\n",
      "u = -[[3.55207503e+00 1.49728824e+00 1.62795684e-03]\n",
      " [4.13722873e+01 3.44793783e+00 9.13165469e-04]\n",
      " [7.26089884e-03 4.63474598e-03 6.99998714e+00]\n",
      " [2.46973508e+00 1.07914466e-02 9.99997733e+00]]*y\n",
      "\n"
     ]
    }
   ],
   "source": [
    "from scipy.signal import place_poles, ss2tf\n",
    "\n",
    "#The system is stable when the real part of its eigenvalues are negative, so create a set of 4 negative real eigenvalues\n",
    "\n",
    "# eig = np.random.uniform(-10, -1, size=(4,))\n",
    "eig =  [-5, -4, -2, -3]\n",
    "\n",
    "#Control law for the system without observer\n",
    "place_poles_state = place_poles(A, B, eig)\n",
    "K = place_poles_state.gain_matrix\n",
    "print(\"Matrix K:\", K, \"\\n\")\n",
    "\n",
    "#Control law for the system with only y=Cx measurement\n",
    "print (\"u = -\", K, \"x\\n\")\n",
    "place_poles_observer = place_poles(A.T, C.T, eig)\n",
    "L = place_poles_observer.gain_matrix.T\n",
    "print(\"Matrix L:\", L,\"\\n\")\n",
    "print (f\"u = -{L}*y\\n\")"
   ]
  },
  {
   "cell_type": "code",
   "execution_count": 7,
   "metadata": {
    "pycharm": {
     "name": "#%%\n"
    }
   },
   "outputs": [
    {
     "name": "stdout",
     "output_type": "stream",
     "text": [
      "Received eigenvalues by closed-loop for the case when full state information is available and no observer is used:  [-5. -4. -3. -2.]\n",
      "Received eigenvalues by closed-loop for the case when full state information is available, when only measurement y = C*x is available and an observer is used.:  [-4. -3. -5. -2.]\n"
     ]
    }
   ],
   "source": [
    "from numpy import linalg\n",
    "\n",
    "eig_received_K = linalg.eigvals(A - B @ K)\n",
    "print(\"Received eigenvalues by closed-loop for the case when full state information is available and no observer is used: \" , eig_received_K)\n",
    "\n",
    "eig_received_L = linalg.eigvals(A - L@C)\n",
    "print(\"Received eigenvalues by closed-loop for the case when full state information is available, when only measurement y = C*x is available and an observer is used.: \" , eig_received_L)"
   ]
  },
  {
   "cell_type": "markdown",
   "metadata": {
    "id": "uJTVJ1pCYdHV"
   },
   "source": [
    "##  **Simulation**:\n",
    "We proceed with the simulation of designed controller, firstly we will define the simulation parameters: "
   ]
  },
  {
   "cell_type": "code",
   "execution_count": 8,
   "metadata": {
    "id": "L473KDm6Y7GK"
   },
   "outputs": [],
   "source": [
    "# Time settings\n",
    "t0 = 0 # Initial time\n",
    "tf = 10 # Final time\n",
    "N = 1000 # Numbers of points in time span\n",
    "t = np.linspace(t0, tf, N) # Create time span\n",
    "\n",
    "# Define initial point \n",
    "theta_0 = 0.4\n",
    "p_0 = 0.1\n",
    "\n",
    "# Set initial state \n",
    "x0 = np.array([theta_0, # Initial pendulum angle\n",
    "      0, # Initial pendulum angular speed\n",
    "      p_0, # Initial cart position\n",
    "      0]) # Initial cart speed"
   ]
  },
  {
   "cell_type": "markdown",
   "metadata": {
    "id": "zojvh_scXgvZ"
   },
   "source": [
    "\n",
    "#### **Linearized dynamics**:\n",
    "Now let us simulate the response of linear controller on the **linearized** system:"
   ]
  },
  {
   "cell_type": "code",
   "execution_count": 9,
   "metadata": {
    "pycharm": {
     "name": "#%%\n"
    }
   },
   "outputs": [
    {
     "data": {
      "image/png": "[encoded data removed]",
      "text/plain": [
       "<Figure size 432x288 with 1 Axes>"
      ]
     },
     "metadata": {
      "needs_background": "light"
     },
     "output_type": "display_data"
    }
   ],
   "source": [
    "# import integrator routine\n",
    "from scipy.integrate import odeint\n",
    "\n",
    "# Define the linear ODE to solve\n",
    "def linear_ode(x, t, A, B, K):\n",
    "    # Linear controller\n",
    "    u = - np.dot(K,x)\n",
    "    # Linearized dynamics\n",
    "    dx = np.dot(A,x) + np.dot(B,u)\n",
    "    return dx\n",
    "\n",
    "# integrate system \"sys_ode\" from initial state $x0$\n",
    "x_l = odeint(linear_ode, x0, t, args=(A, B, K,))\n",
    "theta_l, dtheta_l, p_l, dp_l = x_l[:,0], x_l[:,1], x_l[:,2], x_l[:,3]\n",
    "# Plot the results\n",
    "plt.plot(t, theta_l, 'b--', linewidth=2.0, label = r'$\\theta$ linear')\n",
    "plt.plot(t, p_l, 'r--', linewidth=2.0, label = r'$p$ linear')\n",
    "plt.grid(color='black', linestyle='--', linewidth=1.0, alpha = 0.7)\n",
    "plt.grid(True)\n",
    "plt.legend()\n",
    "plt.xlim([t0, tf])\n",
    "plt.ylabel(r'Coordinates $p,\\theta$')\n",
    "plt.xlabel(r'Time $t$ (s)')\n",
    "plt.show()"
   ]
  },
  {
   "cell_type": "markdown",
   "metadata": {
    "id": "xf4RANelaCG3"
   },
   "source": [
    "Now we will simulate similarly to linear case while using the same gains $\\mathbf{K}$:"
   ]
  },
  {
   "cell_type": "code",
   "execution_count": 10,
   "metadata": {
    "id": "IPF4ezxF75Dj"
   },
   "outputs": [
    {
     "data": {
      "image/png": "[encoded data removed]",
      "text/plain": [
       "<Figure size 432x288 with 1 Axes>"
      ]
     },
     "metadata": {
      "needs_background": "light"
     },
     "output_type": "display_data"
    }
   ],
   "source": [
    "def nonlinear_ode(x, t, K):\n",
    "\n",
    "    # Linear controller\n",
    "    u = - np.dot(K,x)\n",
    "\n",
    "    # Nonlinear dynamics\n",
    "    dx = f(x, u)\n",
    "\n",
    "    return dx\n",
    "\n",
    "# integrate system \"sys_ode\" from initial state $x0$\n",
    "x_nl = odeint(nonlinear_ode, x0, t, args=(K,))\n",
    "theta_nl, dtheta_nl, p_nl, dp_nl = x_nl[:,0], x_nl[:,1], x_nl[:,2], x_nl[:,3]\n",
    "# Plot the resulst\n",
    "plt.plot(t, theta_nl, 'b', linewidth=2.0, label = r'$\\theta$ nonlinear')\n",
    "plt.plot(t, p_nl, 'r', linewidth=2.0, label = r'$p$ nonlinear')\n",
    "plt.grid(color='black', linestyle='--', linewidth=1.0, alpha = 0.7)\n",
    "plt.grid(True)\n",
    "plt.legend()\n",
    "plt.xlim([t0, tf])\n",
    "plt.ylabel(r'Coordinates $p,\\theta$')\n",
    "plt.xlabel(r'Time $t$ (s)')\n",
    "plt.show()"
   ]
  },
  {
   "cell_type": "markdown",
   "metadata": {
    "id": "XSU6vW6PKpUd"
   },
   "source": [
    "### Simulation with observer\n",
    "\n",
    "Insert your code simulating the behaviour of the nonlinear system with an observer. Plot the results, compare state estimation and actual state of the system."
   ]
  },
  {
   "cell_type": "code",
   "execution_count": 11,
   "metadata": {
    "pycharm": {
     "name": "#%%\n"
    }
   },
   "outputs": [
    {
     "data": {
      "image/png": "[encoded data removed]",
      "text/plain": [
       "<Figure size 432x288 with 1 Axes>"
      ]
     },
     "metadata": {
      "needs_background": "light"
     },
     "output_type": "display_data"
    }
   ],
   "source": [
    "from scipy.integrate import odeint\n",
    "\n",
    "\n",
    "def observer_controller(state, t, system_param, observer_params):\n",
    "    x, x_hat = np.split(state, 2)\n",
    "    A = system_param['A']\n",
    "    B = system_param['B']\n",
    "    K = system_param['K']\n",
    "    C = observer_params['C']\n",
    "    L = observer_params['L']\n",
    "    A_obs = observer_params['A']\n",
    "\n",
    "\n",
    "    u = -np.dot(K, x_hat)\n",
    "    dx = np.dot(A, x) + np.dot(B, u)\n",
    "    y = np.dot(C, x)\n",
    "    #\n",
    "    y_hat = np.dot(C, x_hat)\n",
    "    e = y - y_hat\n",
    "    dx_hat = np.dot(A_obs, x_hat) + np.dot(B, u) + np.dot(L, e)\n",
    "    # print(dx_hat)\n",
    "    #\n",
    "    dstate = np.hstack((dx, dx_hat))\n",
    "    # dstate = dx, dx_hat\n",
    "    return dstate\n",
    "\n",
    "\n",
    "A_o = np.array(A)\n",
    "\n",
    "system_params = {'A': A, 'B': B, 'K': K}\n",
    "observer_params = {'A': A_o, 'C': C, 'L': L}\n",
    "\n",
    "x0_hat = x0 + [0.01, 0.01, 0.1, -0.01]\n",
    "state_0 = np.hstack((x0, x0_hat))\n",
    "\n",
    "# integrate system \"sys_ode\" from initial state $x0$\n",
    "state_sol = odeint(observer_controller, state_0, t, args=(system_params, observer_params))\n",
    "\n",
    "x_real, x_hat =np.split(state_sol, 2, axis = 1)\n",
    "theta, dtheta, x, dx = np.split(x_real, 4, axis=1)\n",
    "theta_hat, dtheta_hat, x_hat, dx_hat = np.split(x_hat, 4, axis=1)\n",
    "\n",
    "# Plot the results\n",
    "plt.plot(t, theta_l, 'b--', linewidth=2.0, label=r'$\\theta$ linear')\n",
    "plt.plot(t, p_l, 'r--', linewidth=2.0, label=r'$p$ linear')\n",
    "plt.grid(color='black', linestyle='--', linewidth=1.0, alpha=0.7)\n",
    "plt.grid(True)\n",
    "plt.legend()\n",
    "plt.xlim([t0, tf])\n",
    "plt.ylabel(r'Coordinates $p,\\theta$')\n",
    "plt.xlabel(r'Time $t$ (s)')\n",
    "plt.show()"
   ]
  },
  {
   "cell_type": "markdown",
   "metadata": {
    "id": "I8K0gNMmaqrr"
   },
   "source": [
    "\n",
    "### **Comparison**:\n",
    "One may compare the linear and nonlinear responses by plotting them together:"
   ]
  },
  {
   "cell_type": "code",
   "execution_count": 12,
   "metadata": {
    "id": "HMT9U1H7a2Wz"
   },
   "outputs": [
    {
     "data": {
      "image/png": "[encoded data removed]",
      "text/plain": [
       "<Figure size 432x288 with 1 Axes>"
      ]
     },
     "metadata": {
      "needs_background": "light"
     },
     "output_type": "display_data"
    }
   ],
   "source": [
    "# theta_l, p_l - values of theta and p for the linear system\n",
    "# theta_nl, p_nl - values of theta and p for the nonlinear system\n",
    "\n",
    "plt.plot(t, theta_l, 'b--', linewidth=2.0, label = r'$\\theta$ linear')\n",
    "plt.plot(t, p_l, 'r--', linewidth=2.0, label = r'$p$ linear')\n",
    "plt.plot(t, theta_nl, 'b', linewidth=2.0, label = r'$\\theta$ nonlinear')\n",
    "plt.plot(t, p_nl, 'r', linewidth=2.0, label = r'$p$ nonlinear')\n",
    "plt.grid(color='black', linestyle='--', linewidth=1.0, alpha = 0.7)\n",
    "plt.grid(True)\n",
    "plt.legend()\n",
    "plt.xlim([t0, tf])\n",
    "plt.ylabel(r'Coordinates $p,\\theta$')\n",
    "plt.xlabel(r'Time $t$ (s)')\n",
    "plt.show()"
   ]
  },
  {
   "cell_type": "markdown",
   "metadata": {
    "id": "zvwB54-6LjIR"
   },
   "source": [
    "# Animation"
   ]
  },
  {
   "cell_type": "code",
   "execution_count": 13,
   "metadata": {
    "id": "Pa5FNEfQR2NJ"
   },
   "outputs": [],
   "source": [
    "p = p_nl\n",
    "theta = theta_nl\n",
    "time = t"
   ]
  },
  {
   "cell_type": "code",
   "execution_count": 14,
   "metadata": {
    "id": "xCSCmInpRwj7"
   },
   "outputs": [
    {
     "data": {
      "image/png": "[encoded data removed]",
      "text/plain": [
       "<Figure size 864x360 with 2 Axes>"
      ]
     },
     "metadata": {
      "needs_background": "light"
     },
     "output_type": "display_data"
    }
   ],
   "source": [
    "%matplotlib inline\n",
    "\n",
    "# create a figure and axes\n",
    "fig = plt.figure(figsize=(12,5))\n",
    "ax1 = plt.subplot(1,2,1)\n",
    "ax2 = plt.subplot(1,2,2)\n",
    "\n",
    "# set up the subplots as needed\n",
    "# ax1.set_xlim(( 0, 2))            \n",
    "# ax1.set_ylim((-0.3, 0.3))\n",
    "ax1.set_xlabel('Time')\n",
    "ax1.set_ylabel('Magnitude')\n",
    "\n",
    "ax2.set_xlim((-0.5,0.5))\n",
    "ax2.set_ylim((0,1))\n",
    "ax2.set_xlabel('X')\n",
    "ax2.set_ylabel('Y')\n",
    "ax2.set_title('animation')\n",
    "\n",
    "# create objects that will change in the animation. These are\n",
    "# initially empty, and will be given new values for each frame\n",
    "# in the animation.\n",
    "txt_title = ax1.set_title('plot')\n",
    "line_x,     = ax1.plot(time, p, 'b')     # ax.plot returns a list of 2D line objects\n",
    "line_theta, = ax1.plot(time, theta, 'r')\n",
    "point_x,     = ax1.plot([], [], 'g.', ms=20)\n",
    "point_theta, = ax1.plot([], [], 'g.', ms=20)\n",
    "\n",
    "draw_cart,  = ax2.plot([], [], 'b', lw=2)\n",
    "draw_shaft, = ax2.plot([], [], 'r', lw=2)\n",
    "\n",
    "ax1.legend(['x','theta']);"
   ]
  },
  {
   "cell_type": "code",
   "execution_count": 15,
   "metadata": {
    "id": "oE2hVzA0Q_7Y"
   },
   "outputs": [],
   "source": [
    "\n",
    "shaft_l = 0.3\n",
    "cart_l = 0.1\n",
    "cart_x = np.array([-1, -1, 1, 1, -1])*cart_l\n",
    "cart_y = np.array([ 0,  1, 1, 0,  0])*cart_l\n",
    "\n",
    "\n",
    "# animation function. This is called sequentially\n",
    "def drawframe(n):\n",
    "\n",
    "    shaft_x = np.array([ p[n],  p[n] + shaft_l*sin(theta[n] )])\n",
    "    shaft_y = np.array([ cart_l/2,  cart_l/2 + shaft_l*cos(theta[n] )])\n",
    "\n",
    "    line_x.set_data(time, p)\n",
    "    line_theta.set_data(time, theta)\n",
    "\n",
    "    point_x.set_data(time[n], p[n])\n",
    "    point_theta.set_data(time[n], theta[n])\n",
    "\n",
    "    draw_cart.set_data(cart_x+p[n], cart_y)\n",
    "    draw_shaft.set_data(shaft_x, shaft_y)\n",
    "\n",
    "    txt_title.set_text('Frame = {0:4d}'.format(n))\n",
    "    return (draw_cart,draw_shaft)"
   ]
  },
  {
   "cell_type": "code",
   "execution_count": 16,
   "metadata": {
    "id": "mje05MpaRCOz"
   },
   "outputs": [],
   "source": [
    "from matplotlib import animation\n",
    "\n",
    "# blit=True re-draws only the parts that have changed.\n",
    "anim = animation.FuncAnimation(fig, drawframe, frames=200, interval=20, blit=True)"
   ]
  },
  {
   "cell_type": "markdown",
   "metadata": {
    "id": "8jQfAyiVL9hR"
   },
   "source": [
    "## Here we try to make a video of the cart-pole as it moves"
   ]
  },
  {
   "cell_type": "code",
   "execution_count": 17,
   "metadata": {
    "id": "Ml0P9dt0RD22"
   },
   "outputs": [
    {
     "ename": "RuntimeError",
     "evalue": "Requested MovieWriter (ffmpeg) not available",
     "output_type": "error",
     "traceback": [
      "\u001B[1;31m---------------------------------------------------------------------------\u001B[0m",
      "\u001B[1;31mRuntimeError\u001B[0m                              Traceback (most recent call last)",
      "Input \u001B[1;32mIn [17]\u001B[0m, in \u001B[0;36m<cell line: 2>\u001B[1;34m()\u001B[0m\n\u001B[0;32m      1\u001B[0m \u001B[38;5;28;01mfrom\u001B[39;00m \u001B[38;5;21;01mIPython\u001B[39;00m\u001B[38;5;21;01m.\u001B[39;00m\u001B[38;5;21;01mdisplay\u001B[39;00m \u001B[38;5;28;01mimport\u001B[39;00m HTML\n\u001B[1;32m----> 2\u001B[0m HTML(\u001B[43manim\u001B[49m\u001B[38;5;241;43m.\u001B[39;49m\u001B[43mto_html5_video\u001B[49m\u001B[43m(\u001B[49m\u001B[43m)\u001B[49m)\n",
      "File \u001B[1;32mc:\\users\\asiia\\pycharmprojects\\ctassignment3\\venv\\lib\\site-packages\\matplotlib\\animation.py:1266\u001B[0m, in \u001B[0;36mAnimation.to_html5_video\u001B[1;34m(self, embed_limit)\u001B[0m\n\u001B[0;32m   1263\u001B[0m path \u001B[38;5;241m=\u001B[39m Path(tmpdir, \u001B[38;5;124m\"\u001B[39m\u001B[38;5;124mtemp.m4v\u001B[39m\u001B[38;5;124m\"\u001B[39m)\n\u001B[0;32m   1264\u001B[0m \u001B[38;5;66;03m# We create a writer manually so that we can get the\u001B[39;00m\n\u001B[0;32m   1265\u001B[0m \u001B[38;5;66;03m# appropriate size for the tag\u001B[39;00m\n\u001B[1;32m-> 1266\u001B[0m Writer \u001B[38;5;241m=\u001B[39m \u001B[43mwriters\u001B[49m\u001B[43m[\u001B[49m\u001B[43mmpl\u001B[49m\u001B[38;5;241;43m.\u001B[39;49m\u001B[43mrcParams\u001B[49m\u001B[43m[\u001B[49m\u001B[38;5;124;43m'\u001B[39;49m\u001B[38;5;124;43manimation.writer\u001B[39;49m\u001B[38;5;124;43m'\u001B[39;49m\u001B[43m]\u001B[49m\u001B[43m]\u001B[49m\n\u001B[0;32m   1267\u001B[0m writer \u001B[38;5;241m=\u001B[39m Writer(codec\u001B[38;5;241m=\u001B[39m\u001B[38;5;124m'\u001B[39m\u001B[38;5;124mh264\u001B[39m\u001B[38;5;124m'\u001B[39m,\n\u001B[0;32m   1268\u001B[0m                 bitrate\u001B[38;5;241m=\u001B[39mmpl\u001B[38;5;241m.\u001B[39mrcParams[\u001B[38;5;124m'\u001B[39m\u001B[38;5;124manimation.bitrate\u001B[39m\u001B[38;5;124m'\u001B[39m],\n\u001B[0;32m   1269\u001B[0m                 fps\u001B[38;5;241m=\u001B[39m\u001B[38;5;241m1000.\u001B[39m \u001B[38;5;241m/\u001B[39m \u001B[38;5;28mself\u001B[39m\u001B[38;5;241m.\u001B[39m_interval)\n\u001B[0;32m   1270\u001B[0m \u001B[38;5;28mself\u001B[39m\u001B[38;5;241m.\u001B[39msave(\u001B[38;5;28mstr\u001B[39m(path), writer\u001B[38;5;241m=\u001B[39mwriter)\n",
      "File \u001B[1;32mc:\\users\\asiia\\pycharmprojects\\ctassignment3\\venv\\lib\\site-packages\\matplotlib\\animation.py:151\u001B[0m, in \u001B[0;36mMovieWriterRegistry.__getitem__\u001B[1;34m(self, name)\u001B[0m\n\u001B[0;32m    149\u001B[0m \u001B[38;5;28;01mif\u001B[39;00m \u001B[38;5;28mself\u001B[39m\u001B[38;5;241m.\u001B[39mis_available(name):\n\u001B[0;32m    150\u001B[0m     \u001B[38;5;28;01mreturn\u001B[39;00m \u001B[38;5;28mself\u001B[39m\u001B[38;5;241m.\u001B[39m_registered[name]\n\u001B[1;32m--> 151\u001B[0m \u001B[38;5;28;01mraise\u001B[39;00m \u001B[38;5;167;01mRuntimeError\u001B[39;00m(\u001B[38;5;124mf\u001B[39m\u001B[38;5;124m\"\u001B[39m\u001B[38;5;124mRequested MovieWriter (\u001B[39m\u001B[38;5;132;01m{\u001B[39;00mname\u001B[38;5;132;01m}\u001B[39;00m\u001B[38;5;124m) not available\u001B[39m\u001B[38;5;124m\"\u001B[39m)\n",
      "\u001B[1;31mRuntimeError\u001B[0m: Requested MovieWriter (ffmpeg) not available"
     ]
    }
   ],
   "source": [
    "from IPython.display import HTML\n",
    "HTML(anim.to_html5_video())"
   ]
  },
  {
   "cell_type": "code",
   "execution_count": null,
   "metadata": {
    "pycharm": {
     "name": "#%%\n"
    }
   },
   "outputs": [],
   "source": []
  }
 ],
 "metadata": {
  "colab": {
   "collapsed_sections": [],
   "name": "Assignment3.ipynb",
   "provenance": []
  },
  "kernelspec": {
   "display_name": "Python 3 (ipykernel)",
   "language": "python",
   "name": "python3"
  },
  "language_info": {
   "codemirror_mode": {
    "name": "ipython",
    "version": 3
   },
   "file_extension": ".py",
   "mimetype": "text/x-python",
   "name": "python",
   "nbconvert_exporter": "python",
   "pygments_lexer": "ipython3",
   "version": "3.9.7"
  }
 },
 "nbformat": 4,
 "nbformat_minor": 1
}